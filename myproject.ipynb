{
 "cells": [
  {
   "cell_type": "code",
   "execution_count": 1,
   "id": "0110eb6a-0aad-40da-8727-66bfef86680f",
   "metadata": {},
   "outputs": [
    {
     "name": "stdout",
     "output_type": "stream",
     "text": [
      "Requirement already satisfied: mysql-connector-python in c:\\users\\re_go\\anaconda3\\envs\\myenv1\\lib\\site-packages (9.2.0)\n"
     ]
    }
   ],
   "source": [
    "!pip install mysql-connector-python"
   ]
  },
  {
   "cell_type": "code",
   "execution_count": 7,
   "id": "20229998-502a-451e-a8c4-8c8ef83d6200",
   "metadata": {},
   "outputs": [
    {
     "name": "stdout",
     "output_type": "stream",
     "text": [
      "[('dcebatch1',), ('dcebatch4',), ('employees',), ('information_schema',), ('mysql',), ('performance_schema',), ('sakila',), ('sys',), ('world',)]\n"
     ]
    }
   ],
   "source": [
    "import mysql.connector\n",
    "try:\n",
    "    con = mysql.connector.connect(host='localhost',user='root',password=\"Ascii@1234\",database='dcebatch1')\n",
    "    cur = con.cursor()\n",
    "    cur.execute('show databases;')\n",
    "    print(cur.fetchall())\n",
    "    con.close()\n",
    "except Exception as e:\n",
    "    print(e)"
   ]
  },
  {
   "cell_type": "code",
   "execution_count": null,
   "id": "18a43043-3a50-48f7-a654-8d4321fad2c5",
   "metadata": {},
   "outputs": [
    {
     "name": "stdout",
     "output_type": "stream",
     "text": [
      "********************Welcome to MY App********************\n",
      "1.Sigin\n",
      "2.Signup\n",
      "3.Search\n",
      "4.DisplayAll\n",
      "5.Filter Using  percentage\n",
      "6.Exit\n"
     ]
    },
    {
     "name": "stdin",
     "output_type": "stream",
     "text": [
      "Enter Your choice 2\n",
      "Enter your Roll Number 2001\n",
      "Enter Your Name bob\n",
      "Enter Your Password 1234\n",
      "Enter Your Branch cse\n",
      "Enter Your Admission Year 2021\n",
      "Enter Your Percentage in 10th 67\n",
      "Enter Your Percentage in 12th 78\n"
     ]
    },
    {
     "name": "stdout",
     "output_type": "stream",
     "text": [
      "1146 (42S02): Table 'dcebatch1.student_recrod' doesn't exist\n",
      "Already Registered\n",
      "1.Sigin\n",
      "2.Signup\n",
      "3.Search\n",
      "4.DisplayAll\n",
      "5.Filter Using  percentage\n",
      "6.Exit\n"
     ]
    }
   ],
   "source": [
    "import mysql.connector\n",
    "def signup(data):\n",
    "    try:\n",
    "        con = mysql.connector.connect(host='localhost',user='root',password=\"Ascii@1234\",database='dcebatch1')\n",
    "        cur = con.cursor()\n",
    "        cur.execute(f'select * from student_recrod where roll={data[0]}')\n",
    "        result = cur.fetchone()\n",
    "        if result:\n",
    "            con.close()\n",
    "            return False\n",
    "        else:\n",
    "            cur.execute('INSERT INTO student_record(roll,name,password,branch,admin_year,per_10,per_12)values(%s,%s,%s,%s,%s,%s,%s)',data)\n",
    "            con.commit()\n",
    "            con.close()\n",
    "            return True\n",
    "    except Exception as e:\n",
    "        print(e)\n",
    "\n",
    "print(\"*\"*20 + \"Welcome to MY App\" + \"*\"*20)\n",
    "while True:\n",
    "    print(\"1.Sigin\\n2.Signup\\n3.Search\\n4.DisplayAll\\n5.Filter Using  percentage\\n6.Exit\")\n",
    "    ch = int(input(\"Enter Your choice\"))\n",
    "    if ch==1:\n",
    "        pass\n",
    "    elif ch==2:\n",
    "        roll = int(input(\"Enter your Roll Number\"))\n",
    "        name = input(\"Enter Your Name\")\n",
    "        password = input(\"Enter Your Password\")\n",
    "        branch = input(\"Enter Your Branch\")\n",
    "        admin_year = int(input(\"Enter Your Admission Year\"))\n",
    "        per_10 = int(input(\"Enter Your Percentage in 10th\"))\n",
    "        per_12 = int(input(\"Enter Your Percentage in 12th\"))\n",
    "        if signup((roll,name,password,branch,admin_year,per_10,per_12)):\n",
    "            print(\"Student Registered Successfully\")\n",
    "        else:\n",
    "            print(\"Already Registered\")\n",
    "        \n",
    "    elif ch==3:\n",
    "        pass\n",
    "    elif ch==4:\n",
    "        pass\n",
    "    elif ch==5:\n",
    "        pass\n",
    "    elif ch==6:\n",
    "        break\n",
    "    else:\n",
    "        print(\"Wrong Choice\")\n",
    "    "
   ]
  },
  {
   "cell_type": "code",
   "execution_count": null,
   "id": "6288674b-f3f0-44a1-a2c5-136411a56fbe",
   "metadata": {},
   "outputs": [],
   "source": []
  }
 ],
 "metadata": {
  "kernelspec": {
   "display_name": "Python [conda env:myenv1]",
   "language": "python",
   "name": "conda-env-myenv1-py"
  },
  "language_info": {
   "codemirror_mode": {
    "name": "ipython",
    "version": 3
   },
   "file_extension": ".py",
   "mimetype": "text/x-python",
   "name": "python",
   "nbconvert_exporter": "python",
   "pygments_lexer": "ipython3",
   "version": "3.12.9"
  }
 },
 "nbformat": 4,
 "nbformat_minor": 5
}
