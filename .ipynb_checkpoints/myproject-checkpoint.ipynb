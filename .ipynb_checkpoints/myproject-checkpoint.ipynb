{
 "cells": [
  {
   "cell_type": "code",
   "execution_count": 1,
   "id": "0110eb6a-0aad-40da-8727-66bfef86680f",
   "metadata": {},
   "outputs": [
    {
     "name": "stdout",
     "output_type": "stream",
     "text": [
      "Requirement already satisfied: mysql-connector-python in c:\\users\\re_go\\anaconda3\\envs\\myenv1\\lib\\site-packages (9.2.0)\n"
     ]
    }
   ],
   "source": [
    "!pip install mysql-connector-python"
   ]
  },
  {
   "cell_type": "code",
   "execution_count": 7,
   "id": "20229998-502a-451e-a8c4-8c8ef83d6200",
   "metadata": {},
   "outputs": [
    {
     "name": "stdout",
     "output_type": "stream",
     "text": [
      "[('dcebatch1',), ('dcebatch4',), ('employees',), ('information_schema',), ('mysql',), ('performance_schema',), ('sakila',), ('sys',), ('world',)]\n"
     ]
    }
   ],
   "source": [
    "import mysql.connector\n",
    "try:\n",
    "    con = mysql.connector.connect(host='localhost',user='root',password=\"Ascii@1234\",database='dcebatch1')\n",
    "    cur = con.cursor()\n",
    "    cur.execute('show databases;')\n",
    "    print(cur.fetchall())\n",
    "    con.close()\n",
    "except Exception as e:\n",
    "    print(e)"
   ]
  },
  {
   "cell_type": "code",
   "execution_count": 13,
   "id": "18a43043-3a50-48f7-a654-8d4321fad2c5",
   "metadata": {},
   "outputs": [
    {
     "name": "stdout",
     "output_type": "stream",
     "text": [
      "********************Welcome to MY App********************\n",
      "1.Sigin\n",
      "2.Signup\n",
      "3.Search\n",
      "4.DisplayAll\n",
      "5.Filter Using  percentage\n",
      "6.Exit\n"
     ]
    },
    {
     "name": "stdin",
     "output_type": "stream",
     "text": [
      "Enter Your choice 8\n"
     ]
    },
    {
     "name": "stdout",
     "output_type": "stream",
     "text": [
      "Wrong Choice\n",
      "1.Sigin\n",
      "2.Signup\n",
      "3.Search\n",
      "4.DisplayAll\n",
      "5.Filter Using  percentage\n",
      "6.Exit\n"
     ]
    },
    {
     "name": "stdin",
     "output_type": "stream",
     "text": [
      "Enter Your choice 6\n"
     ]
    }
   ],
   "source": [
    "print(\"*\"*20 + \"Welcome to MY App\" + \"*\"*20)\n",
    "while True:\n",
    "    print(\"1.Sigin\\n2.Signup\\n3.Search\\n4.DisplayAll\\n5.Filter Using  percentage\\n6.Exit\")\n",
    "    ch = int(input(\"Enter Your choice\"))\n",
    "    if ch==1:\n",
    "        pass\n",
    "    elif ch==2:\n",
    "        pass\n",
    "    elif ch==3:\n",
    "        pass\n",
    "    elif ch==4:\n",
    "        pass\n",
    "    elif ch==5:\n",
    "        pass\n",
    "    elif ch==6:\n",
    "        break\n",
    "    else:\n",
    "        print(\"Wrong Choice\")\n",
    "    "
   ]
  },
  {
   "cell_type": "code",
   "execution_count": null,
   "id": "6288674b-f3f0-44a1-a2c5-136411a56fbe",
   "metadata": {},
   "outputs": [],
   "source": []
  }
 ],
 "metadata": {
  "kernelspec": {
   "display_name": "Python [conda env:myenv1]",
   "language": "python",
   "name": "conda-env-myenv1-py"
  },
  "language_info": {
   "codemirror_mode": {
    "name": "ipython",
    "version": 3
   },
   "file_extension": ".py",
   "mimetype": "text/x-python",
   "name": "python",
   "nbconvert_exporter": "python",
   "pygments_lexer": "ipython3",
   "version": "3.12.9"
  }
 },
 "nbformat": 4,
 "nbformat_minor": 5
}
